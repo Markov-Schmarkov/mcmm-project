{
 "cells": [
  {
   "cell_type": "markdown",
   "metadata": {
    "collapsed": false
   },
   "source": [
    "## KMeans Unit Tests\n",
    "\n",
    "__ testdatasets __\n",
    "\n",
    "- different.csv files (irisdataset...)\n",
    "- sklearn randomly generated sets\n",
    "- generated normal distributions with known parameters\n",
    "\n",
    "-> cover all dimensions and sizes!\n",
    "\n",
    "\n",
    "tests\n",
    "\n",
    "- test for reproducing same solutions on same datasets\n",
    "- test for normal distributions centers for all metrics, methods\n",
    "- test for singletons for all metrics, methods\n",
    "- test convergence, iterations, breaks and tolerance thresholds\n",
    "\n",
    "- test for cluster centers, labeling for more complex datasets against sklearn kmeans\n"
   ]
  },
  {
   "cell_type": "code",
   "execution_count": null,
   "metadata": {
    "collapsed": true
   },
   "outputs": [],
   "source": [
    "import numpy as np\n",
    "from clustering import KMeans\n",
    "from sklearn.datasets import make_classification\n",
    "data = make_classification(n_samples=1000,n_features=2,n_informative=2,n_classes=3,n_clusters_per_class=1,n_redundant=0)\n",
    "data = data[0]"
   ]
  },
  {
   "cell_type": "code",
   "execution_count": null,
   "metadata": {
    "collapsed": true
   },
   "outputs": [],
   "source": [
    "clustering = KMeans(data,3)"
   ]
  },
  {
   "cell_type": "code",
   "execution_count": null,
   "metadata": {
    "collapsed": false
   },
   "outputs": [],
   "source": [
    "clustering.fit()"
   ]
  },
  {
   "cell_type": "code",
   "execution_count": null,
   "metadata": {
    "collapsed": false
   },
   "outputs": [],
   "source": [
    "centers=clustering.cluster_centers"
   ]
  },
  {
   "cell_type": "code",
   "execution_count": null,
   "metadata": {
    "collapsed": true
   },
   "outputs": [],
   "source": [
    "import matplotlib.pyplot as plt\n",
    "%matplotlib inline"
   ]
  },
  {
   "cell_type": "code",
   "execution_count": null,
   "metadata": {
    "collapsed": false
   },
   "outputs": [],
   "source": [
    "plt.scatter(data[:,0],data[:,1])\n",
    "plt.scatter(centers[:,0],centers[:,1],c='r',s=50)"
   ]
  },
  {
   "cell_type": "code",
   "execution_count": null,
   "metadata": {
    "collapsed": false,
    "scrolled": true
   },
   "outputs": [],
   "source": [
    "import numpy as np\n",
    "from clustering import KMeans\n",
    "from sklearn.datasets import make_classification\n",
    "data = make_classification(n_samples=2000,n_features=2,n_informative=2,n_classes=2,n_clusters_per_class=2,n_redundant=0)\n",
    "data = data[0]\n",
    "clustering = KMeans(data,5)\n",
    "centers=clustering.cluster_centers\n",
    "import matplotlib.pyplot as plt\n",
    "%matplotlib inline\n",
    "plt.scatter(data[:,0],data[:,1])\n",
    "plt.scatter(centers[:,0],centers[:,1],c='r',s=50)"
   ]
  },
  {
   "cell_type": "markdown",
   "metadata": {},
   "source": [
    "### Singletons"
   ]
  },
  {
   "cell_type": "code",
   "execution_count": null,
   "metadata": {
    "collapsed": true
   },
   "outputs": [],
   "source": [
    "from numpy.random import rand"
   ]
  },
  {
   "cell_type": "code",
   "execution_count": null,
   "metadata": {
    "collapsed": false
   },
   "outputs": [],
   "source": [
    "singletons = rand(10,2)"
   ]
  },
  {
   "cell_type": "code",
   "execution_count": null,
   "metadata": {
    "collapsed": false
   },
   "outputs": [],
   "source": [
    "singleton_KMeans = KMeans(singletons,10)\n",
    "cluster_centers = singleton_KMeans.cluster_centers"
   ]
  },
  {
   "cell_type": "code",
   "execution_count": null,
   "metadata": {
    "collapsed": false
   },
   "outputs": [],
   "source": [
    "fig,ax = plt.subplots(ncols=2,nrows=1)\n",
    "\n",
    "ax[0].scatter(singletons[:,0],singletons[:,1])\n",
    "ax[1].scatter(cluster_centers[:,0],cluster_centers[:,1],c='r')"
   ]
  },
  {
   "cell_type": "markdown",
   "metadata": {
    "collapsed": true
   },
   "source": [
    "### clustering normal distributionzzzzz"
   ]
  },
  {
   "cell_type": "code",
   "execution_count": null,
   "metadata": {
    "collapsed": false
   },
   "outputs": [],
   "source": [
    "from numpy.random import randn\n",
    "import seaborn as sns\n",
    "A = randn(10000,2)\n",
    "B = A + np.ones((10000,2))*6\n",
    "C = A + -np.ones((10000,2))*6"
   ]
  },
  {
   "cell_type": "code",
   "execution_count": null,
   "metadata": {
    "collapsed": false
   },
   "outputs": [],
   "source": [
    "\n",
    "plt.scatter(A[:,0],A[:,1])\n",
    "plt.scatter(B[:,0],B[:,1])\n",
    "plt.scatter(C[:,0],C[:,1])"
   ]
  },
  {
   "cell_type": "code",
   "execution_count": null,
   "metadata": {
    "collapsed": false
   },
   "outputs": [],
   "source": [
    "data = np.vstack([A,B,C]) #concatenate\n",
    "kmeans = KMeans(data, 3)\n",
    "kmeans.cluster_centers"
   ]
  },
  {
   "cell_type": "markdown",
   "metadata": {},
   "source": [
    "### validation by scikit learn clustering"
   ]
  },
  {
   "cell_type": "code",
   "execution_count": 4,
   "metadata": {
    "collapsed": false
   },
   "outputs": [],
   "source": [
    "from sklearn.cluster import KMeans as skKmeans"
   ]
  },
  {
   "cell_type": "code",
   "execution_count": 15,
   "metadata": {
    "collapsed": true
   },
   "outputs": [],
   "source": [
    "from sklearn.datasets import make_classification\n",
    "import matplotlib.pyplot as plt\n",
    "from clustering import KMeans"
   ]
  },
  {
   "cell_type": "code",
   "execution_count": 39,
   "metadata": {
    "collapsed": false
   },
   "outputs": [],
   "source": [
    "data = make_classification(n_samples = 300000, n_features = 2, n_classes=4, n_clusters_per_class=1,n_informative= 2,n_redundant=0)[0]"
   ]
  },
  {
   "cell_type": "code",
   "execution_count": 40,
   "metadata": {
    "collapsed": false
   },
   "outputs": [
    {
     "data": {
      "text/plain": [
       "(300000, 2)"
      ]
     },
     "execution_count": 40,
     "metadata": {},
     "output_type": "execute_result"
    }
   ],
   "source": [
    "data.shape"
   ]
  },
  {
   "cell_type": "code",
   "execution_count": 42,
   "metadata": {
    "collapsed": false
   },
   "outputs": [
    {
     "name": "stdout",
     "output_type": "stream",
     "text": [
      "terminated by break condition.\n",
      "42 iterations until termination.\n",
      "terminated by break condition.\n",
      "26 iterations until termination.\n",
      "terminated by break condition.\n",
      "39 iterations until termination.\n",
      "terminated by break condition.\n",
      "25 iterations until termination.\n",
      "1 loop, best of 3: 925 ms per loop\n",
      "1 loop, best of 3: 2.06 s per loop\n",
      "[[ 1.0452951  -0.43376376]\n",
      " [-0.8312833   1.51035996]\n",
      " [-1.4988453  -1.16802874]]\n",
      "[[-0.83500249  1.509505  ]\n",
      " [ 1.04324881 -0.43203485]\n",
      " [-1.50373025 -1.17231178]]\n"
     ]
    }
   ],
   "source": [
    "k=3\n",
    "kmeans = KMeans(data,k)\n",
    "%timeit kmeans.fit()\n",
    "skmeans = skKmeans(n_clusters=k)\n",
    "%timeit skmeans.fit(data)\n",
    "print(skmeans.cluster_centers_)\n",
    "print(kmeans.cluster_centers)"
   ]
  },
  {
   "cell_type": "code",
   "execution_count": 20,
   "metadata": {
    "collapsed": false
   },
   "outputs": [
    {
     "name": "stdout",
     "output_type": "stream",
     "text": [
      "[[-1.39602493 -0.18656302]\n",
      " [ 0.99475099  0.13526771]]\n",
      "terminated by break condition.\n",
      "8 iterations until termination.\n",
      "[[ 0.99475099  0.13526771]\n",
      " [-1.39602493 -0.18656302]]\n"
     ]
    }
   ],
   "source": [
    "k=2\n",
    "kmeans = KMeans(data,k)\n",
    "skmeans = skKmeans(n_clusters=k)\n",
    "skmeans.fit_transform(data)\n",
    "print(skmeans.cluster_centers_)\n",
    "print(kmeans.cluster_centers)"
   ]
  },
  {
   "cell_type": "code",
   "execution_count": 27,
   "metadata": {
    "collapsed": false
   },
   "outputs": [
    {
     "data": {
      "text/plain": [
       "numpy.ndarray"
      ]
     },
     "execution_count": 27,
     "metadata": {},
     "output_type": "execute_result"
    }
   ],
   "source": [
    "type(kmeans.cluster_centers)"
   ]
  },
  {
   "cell_type": "markdown",
   "metadata": {},
   "source": [
    "### labeling"
   ]
  },
  {
   "cell_type": "code",
   "execution_count": 46,
   "metadata": {
    "collapsed": false
   },
   "outputs": [
    {
     "data": {
      "text/plain": [
       "2.0"
      ]
     },
     "execution_count": 46,
     "metadata": {},
     "output_type": "execute_result"
    }
   ],
   "source": [
    "5//2.1"
   ]
  },
  {
   "cell_type": "code",
   "execution_count": null,
   "metadata": {
    "collapsed": true
   },
   "outputs": [],
   "source": []
  }
 ],
 "metadata": {
  "kernelspec": {
   "display_name": "Python 2",
   "language": "python",
   "name": "python2"
  },
  "language_info": {
   "codemirror_mode": {
    "name": "ipython",
    "version": 2
   },
   "file_extension": ".py",
   "mimetype": "text/x-python",
   "name": "python",
   "nbconvert_exporter": "python",
   "pygments_lexer": "ipython2",
   "version": "2.7.11"
  }
 },
 "nbformat": 4,
 "nbformat_minor": 0
}

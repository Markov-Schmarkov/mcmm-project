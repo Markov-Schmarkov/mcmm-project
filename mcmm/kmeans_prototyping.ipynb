{
 "cells": [
  {
   "cell_type": "markdown",
   "metadata": {},
   "source": [
    "### Prototyping Notebook for the KMeans class.\n",
    "(zur Übersicht, Mattes)\n",
    "\n",
    "...will be discarded when class works\n",
    "\n",
    "#### API Concept:\n",
    "\n",
    "- passing data and parameters (k, maximal iterations) of kmeans to class\n",
    "- cluster centers and cluster assignments to data points stored seperately when ether calling KMeans.fit or accessing one of the attributes\n",
    "\n",
    "#### Initialization:\n",
    "\n",
    "- Forgy: choose k rows from dataset as initial centers (add kmeans++ later?)\n",
    "\n",
    "#### Metrics used:\n",
    "\n",
    "- when using scipy.linalg.norm, we can add \"norm\" parameter to class KMeans later on and modify the algorithm for different metrics\n",
    "\n",
    "#### Visualization extension:\n",
    "\n",
    "                (...)"
   ]
  },
  {
   "cell_type": "code",
   "execution_count": 36,
   "metadata": {
    "collapsed": false
   },
   "outputs": [
    {
     "name": "stdout",
     "output_type": "stream",
     "text": [
      "(150L, 4L)\n"
     ]
    },
    {
     "data": {
      "image/png": "[encoded data removed]",
      "text/plain": [
       "<matplotlib.figure.Figure at 0x8875978>"
      ]
     },
     "metadata": {},
     "output_type": "display_data"
    }
   ],
   "source": [
    "#create testdata\n",
    "import numpy as np\n",
    "from sklearn.datasets import load_iris\n",
    "from matplotlib import pyplot as plt\n",
    "%matplotlib inline\n",
    "iris = load_iris().data\n",
    "plt.scatter(iris[:,0],iris[:,1])\n",
    "print iris.shape\n"
   ]
  },
  {
   "cell_type": "code",
   "execution_count": 50,
   "metadata": {
    "collapsed": false
   },
   "outputs": [
    {
     "data": {
      "text/plain": [
       "<matplotlib.collections.PathCollection at 0xad3d630>"
      ]
     },
     "execution_count": 50,
     "metadata": {},
     "output_type": "execute_result"
    },
    {
     "data": {
      "image/png": "[encoded data removed]",
      "text/plain": [
       "<matplotlib.figure.Figure at 0xab382e8>"
      ]
     },
     "metadata": {},
     "output_type": "display_data"
    }
   ],
   "source": [
    "# random center generation\n",
    "from random import sample\n",
    "\n",
    "sampled = sample(range(iris.shape[0]),3)\n",
    "cluster_centres = iris[sampled]\n",
    "\n",
    "plt.scatter(iris[:,0],iris[:,1])\n",
    "plt.scatter(iris[sampled,0],iris[sampled,1],c='r',s=50)"
   ]
  },
  {
   "cell_type": "markdown",
   "metadata": {},
   "source": [
    "## Class API\n"
   ]
  },
  {
   "cell_type": "code",
   "execution_count": 85,
   "metadata": {
    "collapsed": false
   },
   "outputs": [],
   "source": [
    "from random import sample\n",
    "import numpy as np\n",
    "\n",
    "# -----------------------------------\n",
    "# methods for clustering process\n",
    "# -----------------------------------\n",
    "\n",
    "def random_centers(data,k):\n",
    "    '''\n",
    "    initialize k random cluster centers from the data rows, Forgy method\n",
    "    '''    \n",
    "    rows = data.shape[0]\n",
    "    \n",
    "    if k>rows:\n",
    "        raise Exception('number of datapoints has to be at least equal to number of cluster centers')\n",
    "        \n",
    "    sampled = sample(range(rows),k)\n",
    "    cluster_centers = data[sampled]\n",
    "    return cluster_centers\n",
    "    \n",
    "\n",
    "def kmeans_clusterstep(data,k,cluster_centers):\n",
    "    '''\n",
    "    handles one step of clustering: returning optimized cluster centers\n",
    "    '''\n",
    "    # TODO\n",
    "    \n",
    "    return None\n",
    "\n",
    "#--------------------\n",
    "# class\n",
    "#--------------------\n",
    "\n",
    "class KMeans(object):   \n",
    "    '''\n",
    "    class providing simple k-Means clustering for (n,d)-shaped 2-dimensional ndarray objects containing float data\n",
    "    '''\n",
    "    \n",
    "    def __init__(self,data,k,max_iter=100):\n",
    "        '''\n",
    "        input\n",
    "        data: (n,d)-shaped 2-dimensional ndarray objects containing float data\n",
    "        k: int, number of cluster centers. Required to be <= n.\n",
    "        max_iter: int, maximal iterations before terminating\n",
    "        '''\n",
    "        self.k = k\n",
    "        self.max_iter = max_iter\n",
    "        self.data = data\n",
    "        self._cluster_centers = None\n",
    "        self._cluster_assignment = None\n",
    "    \n",
    "    @property \n",
    "    def cluster_centres(self):\n",
    "        if cluster_centres is None:\n",
    "            cluster_centres = self.fit()[0]\n",
    "            cluster_assignment = self.fit()[1]\n",
    "        return self._cluster_centers\n",
    "   \n",
    "    @property \n",
    "    def cluster_assignment(self):\n",
    "        if cluster_assigntment is None:\n",
    "            cluster_centres = self.fit()[0]\n",
    "            cluster_assignment = self.fit()[1]\n",
    "        return self._cluster_assignment\n",
    "\n",
    "         "
   ]
  },
  {
   "cell_type": "code",
   "execution_count": 83,
   "metadata": {
    "collapsed": false
   },
   "outputs": [
    {
     "data": {
      "text/plain": [
       "array([[60, 61, 62, 63, 64],\n",
       "       [50, 51, 52, 53, 54],\n",
       "       [90, 91, 92, 93, 94],\n",
       "       [ 5,  6,  7,  8,  9],\n",
       "       [55, 56, 57, 58, 59],\n",
       "       [15, 16, 17, 18, 19],\n",
       "       [95, 96, 97, 98, 99],\n",
       "       [25, 26, 27, 28, 29],\n",
       "       [65, 66, 67, 68, 69],\n",
       "       [40, 41, 42, 43, 44],\n",
       "       [35, 36, 37, 38, 39],\n",
       "       [70, 71, 72, 73, 74],\n",
       "       [10, 11, 12, 13, 14],\n",
       "       [45, 46, 47, 48, 49],\n",
       "       [ 0,  1,  2,  3,  4],\n",
       "       [75, 76, 77, 78, 79],\n",
       "       [20, 21, 22, 23, 24],\n",
       "       [85, 86, 87, 88, 89],\n",
       "       [30, 31, 32, 33, 34],\n",
       "       [80, 81, 82, 83, 84]])"
      ]
     },
     "execution_count": 83,
     "metadata": {},
     "output_type": "execute_result"
    }
   ],
   "source": [
    "random_centers(np.arange(100).reshape(20,5),20)"
   ]
  },
  {
   "cell_type": "code",
   "execution_count": null,
   "metadata": {
    "collapsed": true
   },
   "outputs": [],
   "source": []
  }
 ],
 "metadata": {
  "kernelspec": {
   "display_name": "Python 2",
   "language": "python",
   "name": "python2"
  },
  "language_info": {
   "codemirror_mode": {
    "name": "ipython",
    "version": 2
   },
   "file_extension": ".py",
   "mimetype": "text/x-python",
   "name": "python",
   "nbconvert_exporter": "python",
   "pygments_lexer": "ipython2",
   "version": "2.7.11"
  }
 },
 "nbformat": 4,
 "nbformat_minor": 0
}

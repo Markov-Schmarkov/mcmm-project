{
 "cells": [
  {
   "cell_type": "code",
   "execution_count": null,
   "metadata": {
    "collapsed": false
   },
   "outputs": [],
   "source": [
    "%matplotlib inline\n",
    "from mcmm import example\n",
    "from mcmm import analysis\n",
    "from mcmm import estimation\n",
    "from mcmm import clustering\n",
    "import numpy as np\n",
    "import matplotlib.pyplot as plt"
   ]
  },
  {
   "cell_type": "markdown",
   "metadata": {},
   "source": [
    "Generate Test Data"
   ]
  },
  {
   "cell_type": "code",
   "execution_count": null,
   "metadata": {
    "collapsed": true
   },
   "outputs": [],
   "source": [
    "iter = 20\n",
    "data = example.generate_test_data(traj_length=2000, num_trajs=20)"
   ]
  },
  {
   "cell_type": "code",
   "execution_count": null,
   "metadata": {
    "collapsed": false
   },
   "outputs": [],
   "source": [
    "for r in range(0,iter):\n",
    "    plt.scatter(data[r][:,0],data[r][:,1],c='grey')"
   ]
  },
  {
   "cell_type": "markdown",
   "metadata": {},
   "source": [
    "Clustering"
   ]
  },
  {
   "cell_type": "code",
   "execution_count": null,
   "metadata": {
    "collapsed": false
   },
   "outputs": [],
   "source": [
    "number_of_cluster_centers = 100\n",
    "clustering = clustering.KMeans(data,k=number_of_cluster_centers,max_iter=100,method='kmeans++')\n",
    "cluster_centers = clustering.cluster_centers\n",
    "cluster_labels = clustering.cluster_labels"
   ]
  },
  {
   "cell_type": "code",
   "execution_count": null,
   "metadata": {
    "collapsed": false
   },
   "outputs": [],
   "source": [
    "for r in range(0,iter):\n",
    "    plt.scatter(data[r][:,0],data[r][:,1],c='grey')\n",
    "plt.scatter(cluster_centers[:,0],cluster_centers[:,1],c='r')"
   ]
  },
  {
   "cell_type": "markdown",
   "metadata": {},
   "source": [
    "Estimation"
   ]
  },
  {
   "cell_type": "code",
   "execution_count": null,
   "metadata": {
    "collapsed": false
   },
   "outputs": [],
   "source": [
    "estimator = estimation.Estimator(cluster_labels, 1, 1)\n",
    "matrix = estimator.reversible_transition_matrix"
   ]
  },
  {
   "cell_type": "markdown",
   "metadata": {},
   "source": [
    "Analysis"
   ]
  },
  {
   "cell_type": "code",
   "execution_count": null,
   "metadata": {
    "collapsed": true
   },
   "outputs": [],
   "source": [
    "msm = analysis.MarkovStateModel(matrix)"
   ]
  },
  {
   "cell_type": "code",
   "execution_count": null,
   "metadata": {
    "collapsed": false
   },
   "outputs": [],
   "source": [
    "fig, ax = plt.subplots(figsize=(6.5, 5))\n",
    "im = ax.scatter(cluster_centers[:, 0], cluster_centers[:, 1], c=msm.stationary_distribution, s=200)\n",
    "cbar = fig.colorbar(im, ax=ax)\n",
    "cbar.set_label(r\"$\\pi(x,y)$\", fontsize=20)"
   ]
  },
  {
   "cell_type": "code",
   "execution_count": null,
   "metadata": {
    "collapsed": false
   },
   "outputs": [],
   "source": [
    "rev = msm.right_eigenvectors(k=5).apply(np.real)\n",
    "fig, axes = plt.subplots(1, 4, figsize=(12, 3.5))\n",
    "for i, ax in enumerate(axes.flat):\n",
    "    ax.scatter(cluster_centers[:, 0], cluster_centers[:, 1], s=80, c=rev.iloc[:, i+1])"
   ]
  },
  {
   "cell_type": "code",
   "execution_count": null,
   "metadata": {
    "collapsed": false
   },
   "outputs": [],
   "source": [
    "n_pcca_states = 4\n",
    "\n",
    "fig, ax = plt.subplots(figsize=(6.5, 5))\n",
    "im = ax.scatter(cluster_centers[:, 0], cluster_centers[:, 1], c=msm.metastable_set_assignments(n_pcca_states), s=200)\n",
    "cbar = fig.colorbar(im, ax=ax)\n",
    "cbar.set_ticks(np.arange(n_pcca_states))\n",
    "cbar.set_label(r\"metastable state\", fontsize=20)"
   ]
  },
  {
   "cell_type": "code",
   "execution_count": null,
   "metadata": {
    "collapsed": true
   },
   "outputs": [],
   "source": []
  }
 ],
 "metadata": {
  "kernelspec": {
   "display_name": "Python 3",
   "language": "python",
   "name": "python3"
  },
  "language_info": {
   "codemirror_mode": {
    "name": "ipython",
    "version": 3
   },
   "file_extension": ".py",
   "mimetype": "text/x-python",
   "name": "python",
   "nbconvert_exporter": "python",
   "pygments_lexer": "ipython3",
   "version": "3.5.1"
  }
 },
 "nbformat": 4,
 "nbformat_minor": 0
}

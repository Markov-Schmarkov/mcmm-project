{
 "cells": [
  {
   "cell_type": "code",
   "execution_count": null,
   "metadata": {
    "collapsed": false
   },
   "outputs": [],
   "source": [
    "%matplotlib inline\n",
    "from mcmm import example\n",
    "from mcmm import analysis\n",
    "from mcmm import estimation\n",
    "from mcmm import clustering\n",
    "import matplotlib.pyplot as plt\n",
    "import matplotlib as mpl\n",
    "import importlib"
   ]
  },
  {
   "cell_type": "markdown",
   "metadata": {
    "collapsed": true
   },
   "source": [
    "generate test data"
   ]
  },
  {
   "cell_type": "code",
   "execution_count": null,
   "metadata": {
    "collapsed": true
   },
   "outputs": [],
   "source": [
    "iter = 20;\n",
    "data = example.generate_test_data(traj_length=2000, num_trajs=20);"
   ]
  },
  {
   "cell_type": "code",
   "execution_count": null,
   "metadata": {
    "collapsed": false
   },
   "outputs": [],
   "source": [
    "for r in range(0,iter):\n",
    "        plt.scatter(data[r][:,0],data[r][:,1],c='grey')"
   ]
  },
  {
   "cell_type": "markdown",
   "metadata": {},
   "source": [
    "Clustering "
   ]
  },
  {
   "cell_type": "code",
   "execution_count": null,
   "metadata": {
    "collapsed": false
   },
   "outputs": [],
   "source": [
    "number_of_cluster_centers = 100\n",
    "clustering = clustering.KMeans(data,k=number_of_cluster_centers,max_iter=100,method='kmeans++')\n",
    "cluster_centers = clustering.cluster_centers\n",
    "cluster_labels = clustering.cluster_labels"
   ]
  },
  {
   "cell_type": "code",
   "execution_count": null,
   "metadata": {
    "collapsed": false
   },
   "outputs": [],
   "source": [
    "for r in range(0,iter):\n",
    "        plt.scatter(data[r][:,0],data[r][:,1],c='grey')\n",
    "plt.scatter(cluster_centers[:,0],cluster_centers[:,1],c='r')"
   ]
  },
  {
   "cell_type": "markdown",
   "metadata": {},
   "source": [
    "Estimation"
   ]
  },
  {
   "cell_type": "code",
   "execution_count": null,
   "metadata": {
    "collapsed": true
   },
   "outputs": [],
   "source": [
    "estimator = estimation.Estimator(cluster_labels, 1, 1)\n",
    "matrix = estimator.transition_matrix\n",
    "#tba: add choise of lag-time"
   ]
  },
  {
   "cell_type": "markdown",
   "metadata": {},
   "source": [
    "Analysis"
   ]
  },
  {
   "cell_type": "code",
   "execution_count": null,
   "metadata": {
    "collapsed": false
   },
   "outputs": [],
   "source": [
    "# create Markov Model\n",
    "msm = analysis.MarkovStateModel(matrix)\n",
    "# visualize the stationary distribution\n",
    "fig, ax = plt.subplots(figsize=(6.5, 5))\n",
    "im = ax.scatter(cluster_centers[:, 0], cluster_centers[:, 1], c=msm.stationary_distribution, s=200, cmap=mpl.cm.viridis)"
   ]
  },
  {
   "cell_type": "code",
   "execution_count": null,
   "metadata": {
    "collapsed": false
   },
   "outputs": [],
   "source": [
    "# visualize the first right eigenvectors\n",
    "importlib.reload(analysis)\n",
    "msm = analysis.MarkovStateModel(matrix)\n",
    "right_eigenvectors = msm.left_eigenvector(4)\n",
    "\n",
    "fig, axes = plt.subplots(1, 4, figsize=(12, 3.5))\n",
    "for i, ax in enumerate(axes.flat):\n",
    "    ax.scatter(cluster_centers[:, 0], cluster_centers[:, 1], s=80, c=right_eigenvectors[:,i+1], cmap=mpl.cm.viridis)\n",
    "fig.tight_layout()"
   ]
  },
  {
   "cell_type": "code",
   "execution_count": null,
   "metadata": {
    "collapsed": false
   },
   "outputs": [],
   "source": []
  },
  {
   "cell_type": "code",
   "execution_count": null,
   "metadata": {
    "collapsed": true
   },
   "outputs": [],
   "source": []
  }
 ],
 "metadata": {
  "kernelspec": {
   "display_name": "Python 3",
   "language": "python",
   "name": "python3"
  },
  "language_info": {
   "codemirror_mode": {
    "name": "ipython",
    "version": 3
   },
   "file_extension": ".py",
   "mimetype": "text/x-python",
   "name": "python",
   "nbconvert_exporter": "python",
   "pygments_lexer": "ipython3",
   "version": "3.5.1"
  }
 },
 "nbformat": 4,
 "nbformat_minor": 0
}

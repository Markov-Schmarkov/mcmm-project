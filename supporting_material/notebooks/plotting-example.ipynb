{
 "cells": [
  {
   "cell_type": "markdown",
   "metadata": {},
   "source": [
    "# Analysis example and plotting tutorial"
   ]
  },
  {
   "cell_type": "code",
   "execution_count": null,
   "metadata": {
    "collapsed": false
   },
   "outputs": [],
   "source": [
    "%matplotlib inline\n",
    "import matplotlib as mpl\n",
    "import matplotlib.pyplot as plt\n",
    "import numpy as np\n",
    "import pyemma\n",
    "from mcmm.example import generate_test_data\n",
    "\n",
    "plt.rc('font', size=15)"
   ]
  },
  {
   "cell_type": "markdown",
   "metadata": {},
   "source": [
    "Here, we define a function to add often used properties to a matplotlib axis object."
   ]
  },
  {
   "cell_type": "code",
   "execution_count": null,
   "metadata": {
    "collapsed": true
   },
   "outputs": [],
   "source": [
    "def format_square(ax):\n",
    "    ax.set_xlim(-2, 2)\n",
    "    ax.set_ylim(-2, 2)\n",
    "    ax.set_xticks([-2, -1, 0, 1, 2])\n",
    "    ax.set_yticks([-2, -1, 0, 1, 2])\n",
    "    ax.set_xlabel(r\"$x$ / a.u.\")\n",
    "    ax.set_ylabel(r\"$y$ / a.u.\")\n",
    "    ax.set_aspect('equal')"
   ]
  },
  {
   "cell_type": "markdown",
   "metadata": {},
   "source": [
    "## Data generation\n",
    "\n",
    "We start by calling the data generation function from the example module."
   ]
  },
  {
   "cell_type": "code",
   "execution_count": null,
   "metadata": {
    "collapsed": true
   },
   "outputs": [],
   "source": [
    "raw_data = generate_test_data(num_trajs=20, traj_length=20000)"
   ]
  },
  {
   "cell_type": "markdown",
   "metadata": {
    "collapsed": false
   },
   "source": [
    "`raw_data` is a list of 2D numpy ndarrays which we visualise as a scatter plot. You can also try to plot the $x$-/$y$-components as time series."
   ]
  },
  {
   "cell_type": "code",
   "execution_count": null,
   "metadata": {
    "collapsed": false
   },
   "outputs": [],
   "source": [
    "fig, ax = plt.subplots(figsize=(5, 5))\n",
    "for rd in raw_data:\n",
    "    ax.scatter(rd[::50, 0], rd[::50, 1], c='grey', s=20)\n",
    "format_square(ax)\n",
    "fig.tight_layout()"
   ]
  },
  {
   "cell_type": "markdown",
   "metadata": {
    "collapsed": true
   },
   "source": [
    "## Clustering and discretisation\n",
    "\n",
    "This example uses `pyemma`, but your `mcmm` nodule must be able to to the same."
   ]
  },
  {
   "cell_type": "code",
   "execution_count": null,
   "metadata": {
    "collapsed": false
   },
   "outputs": [],
   "source": [
    "cluster = pyemma.coordinates.cluster_kmeans(data=raw_data, k=100, max_iter=100)\n",
    "centers = cluster.clustercenters\n",
    "dtrajs = cluster.dtrajs"
   ]
  },
  {
   "cell_type": "markdown",
   "metadata": {
    "collapsed": true
   },
   "source": [
    "We extend our scatter plot of the raw data by adding the cluster centers."
   ]
  },
  {
   "cell_type": "code",
   "execution_count": null,
   "metadata": {
    "collapsed": false
   },
   "outputs": [],
   "source": [
    "fig, ax = plt.subplots(figsize=(5, 5))\n",
    "for rd in raw_data:\n",
    "    ax.scatter(rd[::50, 0], rd[::50, 1], c='grey', s=20)\n",
    "ax.scatter(centers[:, 0], centers[:, 1], c='red', s=50)\n",
    "format_square(ax)\n",
    "fig.tight_layout()"
   ]
  },
  {
   "cell_type": "markdown",
   "metadata": {
    "collapsed": true
   },
   "source": [
    "## Estimation and timescales\n",
    "\n",
    "This is where we start to estimate transition matrices. In order to find a good lagtime, we can estimate several transition matrices for different lagtimes and look at the timescales. Once they are converged, we might have found a suitable lagtime."
   ]
  },
  {
   "cell_type": "code",
   "execution_count": null,
   "metadata": {
    "collapsed": false
   },
   "outputs": [],
   "source": [
    "ax = pyemma.plots.plot_implied_timescales(\n",
    "    pyemma.msm.its(dtrajs=dtrajs, lags=[1, 2, 5, 10, 20, 50, 100, 200, 500, 1000]),\n",
    "    xlog=True, marker='o')\n",
    "ax.figure.tight_layout()"
   ]
  },
  {
   "cell_type": "markdown",
   "metadata": {
    "collapsed": true
   },
   "source": [
    "Now we have to decide on a lagtime and estimate the MSM. A further Chapman-Kolmogoroff test can tell us more about the suitability of the chosen lagtime."
   ]
  },
  {
   "cell_type": "code",
   "execution_count": null,
   "metadata": {
    "collapsed": false
   },
   "outputs": [],
   "source": [
    "msm = pyemma.msm.estimate_markov_model(dtrajs=dtrajs, lag=50)\n",
    "\n",
    "fig, axes = pyemma.plots.plot_cktest(msm.cktest(4))"
   ]
  },
  {
   "cell_type": "markdown",
   "metadata": {},
   "source": [
    "## Analysis\n",
    "\n",
    "Let's learn something about our system. We start by looking at the stationary distribution $\\pi$, which can be visualised as a colored scatter plot of the cluster centers."
   ]
  },
  {
   "cell_type": "code",
   "execution_count": null,
   "metadata": {
    "collapsed": false
   },
   "outputs": [],
   "source": [
    "fig, ax = plt.subplots(figsize=(6.5, 5))\n",
    "im = ax.scatter(centers[:, 0], centers[:, 1], c=msm.stationary_distribution, s=200, cmap=mpl.cm.viridis)\n",
    "cbar = fig.colorbar(im, ax=ax)\n",
    "cbar.set_label(r\"$\\pi(x,y)$\", fontsize=20)\n",
    "format_square(ax)\n",
    "fig.tight_layout()"
   ]
  },
  {
   "cell_type": "markdown",
   "metadata": {},
   "source": [
    "In the same way, we can visualise, e.g., some of the right eigenvectors."
   ]
  },
  {
   "cell_type": "code",
   "execution_count": null,
   "metadata": {
    "collapsed": false
   },
   "outputs": [],
   "source": [
    "rev = msm.eigenvectors_right(k=5)\n",
    "\n",
    "fig, axes = plt.subplots(1, 4, figsize=(12, 3.5))\n",
    "for i, ax in enumerate(axes.flat):\n",
    "    ax.scatter(centers[:, 0], centers[:, 1], s=80, c=rev[:, i+1], cmap=mpl.cm.viridis)\n",
    "    format_square(ax)\n",
    "fig.tight_layout()"
   ]
  },
  {
   "cell_type": "markdown",
   "metadata": {
    "collapsed": true
   },
   "source": [
    "Now it's useful to start coarse graining our system into metastable states with PCCA++. The assignments can, again, be visualised as a colored scatter plot."
   ]
  },
  {
   "cell_type": "code",
   "execution_count": null,
   "metadata": {
    "collapsed": false
   },
   "outputs": [],
   "source": [
    "n_pcca_states = 4\n",
    "\n",
    "msm.pcca(n_pcca_states)\n",
    "\n",
    "fig, ax = plt.subplots(figsize=(6.5, 5))\n",
    "im = ax.scatter(centers[:, 0], centers[:, 1], c=msm.metastable_assignments, s=200, cmap=mpl.cm.viridis)\n",
    "cbar = fig.colorbar(im, ax=ax)\n",
    "cbar.set_ticks(np.arange(n_pcca_states))\n",
    "cbar.set_label(r\"metastable state\", fontsize=20)\n",
    "format_square(ax)\n",
    "fig.tight_layout()"
   ]
  },
  {
   "cell_type": "markdown",
   "metadata": {
    "collapsed": true
   },
   "source": [
    "We compute the stationary probabilities of the metastable states and use this as new coloring for the scatter plot."
   ]
  },
  {
   "cell_type": "code",
   "execution_count": null,
   "metadata": {
    "collapsed": false
   },
   "outputs": [],
   "source": [
    "pi = np.array([msm.stationary_distribution[s].sum() for s in msm.metastable_sets])\n",
    "pi_vec = pi[msm.metastable_assignments]\n",
    "\n",
    "fig, ax = plt.subplots(figsize=(6.5, 5))\n",
    "im = ax.scatter(centers[:, 0], centers[:, 1], c=pi_vec, s=200, cmap=mpl.cm.viridis)\n",
    "cbar = fig.colorbar(im, ax=ax)\n",
    "cbar.set_label(r\"$\\pi($metastable state$)$\", fontsize=20)\n",
    "format_square(ax)\n",
    "fig.tight_layout()\n",
    "\n",
    "print pi"
   ]
  },
  {
   "cell_type": "markdown",
   "metadata": {
    "collapsed": true
   },
   "source": [
    "Finally, we compute mean first passage times (MFPTs) and draw a graph where the size of the nodes is proportional to the stationary probabilities of the metastable states and the thickness of the arrows indicates how fast a transition can occur on average. The actual MFPT values are used as labels for the arrows."
   ]
  },
  {
   "cell_type": "code",
   "execution_count": null,
   "metadata": {
    "collapsed": false
   },
   "outputs": [],
   "source": [
    "mfpt = np.zeros(shape=(n_pcca_states, n_pcca_states))\n",
    "for i, s1 in enumerate(msm.metastable_sets):\n",
    "    for j, s2 in enumerate(msm.metastable_sets):\n",
    "        if s1 is s2: continue\n",
    "        mfpt[i, j] = msm.mfpt(s1, s2)\n",
    "\n",
    "arrow_weights = mfpt.copy()\n",
    "nz = mfpt.nonzero()\n",
    "arrow_weights[nz] = 1.0 / arrow_weights[nz]\n",
    "\n",
    "fig, pos = pyemma.plots.plot_network(\n",
    "    arrow_weights, xpos=[1, 1.5, 4, 4.5], state_sizes=pi,\n",
    "    arrow_labels=mfpt, arrow_label_format=\"%.0f\", arrow_scale=2.0)\n",
    "fig.tight_layout()"
   ]
  },
  {
   "cell_type": "code",
   "execution_count": null,
   "metadata": {
    "collapsed": true
   },
   "outputs": [],
   "source": []
  },
  {
   "cell_type": "code",
   "execution_count": null,
   "metadata": {
    "collapsed": true
   },
   "outputs": [],
   "source": []
  },
  {
   "cell_type": "code",
   "execution_count": null,
   "metadata": {
    "collapsed": true
   },
   "outputs": [],
   "source": []
  },
  {
   "cell_type": "code",
   "execution_count": null,
   "metadata": {
    "collapsed": true
   },
   "outputs": [],
   "source": []
  },
  {
   "cell_type": "code",
   "execution_count": null,
   "metadata": {
    "collapsed": true
   },
   "outputs": [],
   "source": []
  },
  {
   "cell_type": "code",
   "execution_count": null,
   "metadata": {
    "collapsed": true
   },
   "outputs": [],
   "source": []
  },
  {
   "cell_type": "code",
   "execution_count": null,
   "metadata": {
    "collapsed": true
   },
   "outputs": [],
   "source": []
  },
  {
   "cell_type": "code",
   "execution_count": null,
   "metadata": {
    "collapsed": true
   },
   "outputs": [],
   "source": []
  },
  {
   "cell_type": "code",
   "execution_count": null,
   "metadata": {
    "collapsed": true
   },
   "outputs": [],
   "source": []
  }
 ],
 "metadata": {
  "kernelspec": {
   "display_name": "Python 3",
   "language": "python",
   "name": "python3"
  },
  "language_info": {
   "codemirror_mode": {
    "name": "ipython",
    "version": 3
   },
   "file_extension": ".py",
   "mimetype": "text/x-python",
   "name": "python",
   "nbconvert_exporter": "python",
   "pygments_lexer": "ipython3",
   "version": "3.5.1"
  }
 },
 "nbformat": 4,
 "nbformat_minor": 0
}
